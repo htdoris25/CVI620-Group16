{
 "cells": [
  {
   "cell_type": "code",
   "execution_count": 37,
   "id": "0b594c02",
   "metadata": {},
   "outputs": [],
   "source": [
    "import os\n",
    "import cv2\n",
    "import pandas as pd\n",
    "import numpy as np\n",
    "import random\n",
    "import matplotlib.pyplot as plt\n",
    "from imgaug import augmenters as iaa\n",
    "from sklearn.utils import shuffle\n",
    "import matplotlib.image as mpimg\n",
    "from sklearn.model_selection import train_test_split\n",
    "\n",
    "from tensorflow.keras.preprocessing.image import ImageDataGenerator\n",
    "from tensorflow.keras.losses import MeanSquaredError\n",
    "from tensorflow.python.keras.layers import Convolution2D,Flatten,Dense\n",
    "from tensorflow.python.keras.models import Sequential\n",
    "from keras import models, layers\n",
    "from tensorflow.keras.optimizers import Adam"
   ]
  },
  {
   "cell_type": "code",
   "execution_count": 38,
   "id": "02defff5",
   "metadata": {},
   "outputs": [],
   "source": [
    "def getfile(filePath):\n",
    "    return filePath.split('\\\\')[-1]"
   ]
  },
  {
   "cell_type": "code",
   "execution_count": 39,
   "id": "0de4f322",
   "metadata": {},
   "outputs": [],
   "source": [
    "def InitData(path):\n",
    "    columns = ['Center', 'Left', 'Right', 'Steering', 'Throttle', 'Brake', 'Speed']\n",
    "    data = pd.read_csv(os.path.join(path, \"driving_log.csv\"), names = columns)\n",
    "    data['Center'] = data['Center'].apply(getfile)\n",
    "    print('Total Images Imported', data.shape[0])\n",
    "    return data"
   ]
  },
  {
   "cell_type": "code",
   "execution_count": 40,
   "id": "eb381d11",
   "metadata": {},
   "outputs": [],
   "source": [
    "def balanceDataSet(data, display=True):\n",
    "    nBin = 21\n",
    "    samplesPerBin = 1000\n",
    "    hist, bins = np.histogram(data['Steering'], nBin)\n",
    "    if display:\n",
    "        center = (bins[:-1] + bins[1:]) * 0.5\n",
    "        plt.bar(center, hist, width=0.05)\n",
    "        plt.plot((np.min(data['Steering']), np.max(data['Steering'])), (samplesPerBin, samplesPerBin))\n",
    "        plt.show()\n",
    "\n",
    "    removeList = []\n",
    "    for i in range(nBin):\n",
    "        binDataList = []\n",
    "        for j in range(len(data['Steering'])):\n",
    "            if data['Steering'][j] >= bins[i] and data['Steering'][j] <= bins[i + 1]:\n",
    "                binDataList.append(j)\n",
    "        binDataList = shuffle(binDataList)\n",
    "        binDataList = binDataList[samplesPerBin:]\n",
    "        removeList.extend(binDataList)\n",
    "        \n",
    "    print('Removed Images: ', len(removeList))\n",
    "    data.drop(data.index[removeList], inplace=True)\n",
    "    print('Remaining Images: ', len(data))\n",
    "    \n",
    "    if display:\n",
    "        hist, _ = np.histogram(data['Steering'], (nBin))\n",
    "        plt.bar(center, hist,width=0.05)\n",
    "        plt.plot((np.min(data['Steering']), np.max(data['Steering'])), (samplesPerBin, samplesPerBin))\n",
    "        plt.show()\n",
    "\n",
    "    return data"
   ]
  },
  {
   "cell_type": "code",
   "execution_count": 41,
   "id": "c54c47b6",
   "metadata": {},
   "outputs": [],
   "source": [
    "# Load images and steering angles\n",
    "def load_images_and_steering(data,path):\n",
    "    images = []\n",
    "    steerings = []\n",
    "    for i in range(len(data)):\n",
    "        indexed_data = data.iloc[i]\n",
    "        images.append(os.path.join(path,'IMG',indexed_data[0]))\n",
    "        steerings.append(float(indexed_data[3]))\n",
    "    images = np.asarray(images)\n",
    "    steerings = np.asarray(steerings)\n",
    "    return images, steerings"
   ]
  },
  {
   "cell_type": "code",
   "execution_count": 42,
   "id": "183b64a6",
   "metadata": {},
   "outputs": [],
   "source": [
    "def img_preprocess(img):\n",
    "    img = img[60:135, :, :]  \n",
    "    img = cv2.cvtColor(img, cv2.COLOR_BGR2YUV) \n",
    "    img = cv2.GaussianBlur(img, (3,3), 0) \n",
    "    img = cv2.resize(img, (200, 66))  \n",
    "    img = img / 255.0  \n",
    "    img = img.astype(np.float32)\n",
    "    return img\n",
    "    "
   ]
  },
  {
   "cell_type": "code",
   "execution_count": 43,
   "id": "d8ca0ed6",
   "metadata": {},
   "outputs": [],
   "source": [
    "def augmentImage(img, steering):\n",
    "    # img is already a numpy array here\n",
    "    \n",
    "    if np.random.rand() < 0.5:\n",
    "        pan = iaa.Affine(translate_percent={\"x\": (-0.1, 0.1), \"y\": (-0.1, 0.1)})\n",
    "        img = pan.augment_image(img)\n",
    "\n",
    "    if np.random.rand() < 0.5:\n",
    "        zoom = iaa.Affine(scale=(1, 1.2))\n",
    "        img = zoom.augment_image(img)\n",
    "\n",
    "    if np.random.rand() < 0.5:\n",
    "        brightness = iaa.Multiply((0.2, 1.2))\n",
    "        img = brightness.augment_image(img)\n",
    "\n",
    "    if np.random.rand() < 0.5:\n",
    "        img = cv2.flip(img, 1)\n",
    "        steering = -steering\n",
    "        \n",
    "    return img, steering"
   ]
  },
  {
   "cell_type": "code",
   "execution_count": 44,
   "id": "e40d2ada",
   "metadata": {},
   "outputs": [],
   "source": [
    "def create_batches(image_paths, steerings, batch_size, is_training):\n",
    "    while True:\n",
    "        batch_img = []\n",
    "        batch_steer = []\n",
    "        \n",
    "        for _ in range(batch_size):\n",
    "            index = random.randint(0, len(image_paths) - 1)\n",
    "            \n",
    "            # Load image\n",
    "            img = mpimg.imread(image_paths[index])\n",
    "            steering = steerings[index]\n",
    "            \n",
    "            # Preprocess FIRST\n",
    "            img = img_preprocess(img)\n",
    "            \n",
    "            # Then augment if training\n",
    "            if is_training:\n",
    "                img, steering = augmentImage(img, steering)\n",
    "            \n",
    "            batch_img.append(img)\n",
    "            batch_steer.append(steering)\n",
    "\n",
    "        yield (np.asarray(batch_img), (np.asarray(batch_steer)))\n",
    "\n"
   ]
  },
  {
   "cell_type": "code",
   "execution_count": 45,
   "id": "0d01f2f2",
   "metadata": {},
   "outputs": [],
   "source": [
    "def driving_angle_model():\n",
    "    net = models.Sequential([\n",
    "                        # Original size passing the first CNN\n",
    "                        # With 24 filters, this extracts features such as edges and textures\n",
    "                        layers.Conv2D(filters=24, kernel_size=(5, 5), activation='relu', input_shape=(66,200,3)),\n",
    "                        \n",
    "                        # With 36 filters, this extracts deeper features such as lane curves\n",
    "                        layers.Conv2D(filters=36, kernel_size=(5, 5), activation='relu'),\n",
    "\n",
    "                        # With 48 layers, this extracts high level features such as lane patterns\n",
    "                        layers.Conv2D(filters=48, kernel_size=(5, 5), activation='relu'),\n",
    "\n",
    "                        # With 64 layers, this extracts fine grained features\n",
    "                        layers.Conv2D(filters=64, kernel_size=(3, 3), activation='relu'),\n",
    "\n",
    "                        # Once again at 64 filters, this extracts the previous features once more\n",
    "                        layers.Conv2D(filters=64, kernel_size=(3, 3), activation='relu'),\n",
    "\n",
    "                        # Flatten the result array to a 1D array to match size for Dense\n",
    "                        layers.Flatten(),\n",
    "\n",
    "                        # Separate 3 Dense compressions on result layer\n",
    "                        # Compressing with large number of neurons will overfit, and too low will underfit or lose info\n",
    "                        layers.Dense(100, activation='relu'),\n",
    "                        layers.Dense(50, activation='relu'),\n",
    "                        layers.Dense(1)\n",
    "                        ])\n",
    "    \n",
    "    optimizer = Adam(learning_rate=1e-4)\n",
    "\n",
    "    # We want to determine the driving angle based on picture. Therefore, this is a regression problem\n",
    "    net.compile(optimizer=optimizer, loss=MeanSquaredError())\n",
    "\n",
    "    return net"
   ]
  },
  {
   "cell_type": "code",
   "execution_count": 46,
   "id": "7de7170d",
   "metadata": {},
   "outputs": [
    {
     "name": "stdout",
     "output_type": "stream",
     "text": [
      "Total Images Imported 29006\n"
     ]
    },
    {
     "data": {
      "image/png": "[encoded data removed]",
      "text/plain": [
       "<Figure size 640x480 with 1 Axes>"
      ]
     },
     "metadata": {},
     "output_type": "display_data"
    },
    {
     "name": "stdout",
     "output_type": "stream",
     "text": [
      "Removed Images:  20506\n",
      "Remaining Images:  8500\n"
     ]
    },
    {
     "data": {
      "image/png": "[encoded data removed]",
      "text/plain": [
       "<Figure size 640x480 with 1 Axes>"
      ]
     },
     "metadata": {},
     "output_type": "display_data"
    },
    {
     "name": "stderr",
     "output_type": "stream",
     "text": [
      "C:\\Users\\yingt\\AppData\\Local\\Temp\\ipykernel_70996\\108753019.py:7: FutureWarning: Series.__getitem__ treating keys as positions is deprecated. In a future version, integer keys will always be treated as labels (consistent with DataFrame behavior). To access a value by position, use `ser.iloc[pos]`\n",
      "  images.append(os.path.join(path,'IMG',indexed_data[0]))\n",
      "C:\\Users\\yingt\\AppData\\Local\\Temp\\ipykernel_70996\\108753019.py:8: FutureWarning: Series.__getitem__ treating keys as positions is deprecated. In a future version, integer keys will always be treated as labels (consistent with DataFrame behavior). To access a value by position, use `ser.iloc[pos]`\n",
      "  steerings.append(float(indexed_data[3]))\n",
      "c:\\Users\\yingt\\OneDrive\\Desktop\\CVI620\\venv\\Lib\\site-packages\\keras\\src\\layers\\convolutional\\base_conv.py:107: UserWarning: Do not pass an `input_shape`/`input_dim` argument to a layer. When using Sequential models, prefer using an `Input(shape)` object as the first layer in the model instead.\n",
      "  super().__init__(activity_regularizer=activity_regularizer, **kwargs)\n"
     ]
    },
    {
     "name": "stdout",
     "output_type": "stream",
     "text": [
      "Epoch 1/10\n",
      "\u001b[1m50/50\u001b[0m \u001b[32m━━━━━━━━━━━━━━━━━━━━\u001b[0m\u001b[37m\u001b[0m \u001b[1m51s\u001b[0m 987ms/step - loss: 0.2806 - val_loss: 0.0978\n",
      "Epoch 2/10\n",
      "\u001b[1m50/50\u001b[0m \u001b[32m━━━━━━━━━━━━━━━━━━━━\u001b[0m\u001b[37m\u001b[0m \u001b[1m46s\u001b[0m 929ms/step - loss: 0.1062 - val_loss: 0.0824\n",
      "Epoch 3/10\n",
      "\u001b[1m50/50\u001b[0m \u001b[32m━━━━━━━━━━━━━━━━━━━━\u001b[0m\u001b[37m\u001b[0m \u001b[1m47s\u001b[0m 932ms/step - loss: 0.0954 - val_loss: 0.0746\n",
      "Epoch 4/10\n",
      "\u001b[1m50/50\u001b[0m \u001b[32m━━━━━━━━━━━━━━━━━━━━\u001b[0m\u001b[37m\u001b[0m \u001b[1m48s\u001b[0m 956ms/step - loss: 0.0827 - val_loss: 0.0756\n",
      "Epoch 5/10\n",
      "\u001b[1m50/50\u001b[0m \u001b[32m━━━━━━━━━━━━━━━━━━━━\u001b[0m\u001b[37m\u001b[0m \u001b[1m65s\u001b[0m 1s/step - loss: 0.0835 - val_loss: 0.0911\n",
      "Epoch 6/10\n",
      "\u001b[1m50/50\u001b[0m \u001b[32m━━━━━━━━━━━━━━━━━━━━\u001b[0m\u001b[37m\u001b[0m \u001b[1m73s\u001b[0m 1s/step - loss: 0.0844 - val_loss: 0.0763\n",
      "Epoch 7/10\n",
      "\u001b[1m50/50\u001b[0m \u001b[32m━━━━━━━━━━━━━━━━━━━━\u001b[0m\u001b[37m\u001b[0m \u001b[1m47s\u001b[0m 938ms/step - loss: 0.0703 - val_loss: 0.0849\n",
      "Epoch 8/10\n",
      "\u001b[1m50/50\u001b[0m \u001b[32m━━━━━━━━━━━━━━━━━━━━\u001b[0m\u001b[37m\u001b[0m \u001b[1m47s\u001b[0m 936ms/step - loss: 0.0695 - val_loss: 0.0682\n",
      "Epoch 9/10\n",
      "\u001b[1m50/50\u001b[0m \u001b[32m━━━━━━━━━━━━━━━━━━━━\u001b[0m\u001b[37m\u001b[0m \u001b[1m47s\u001b[0m 932ms/step - loss: 0.0670 - val_loss: 0.0774\n",
      "Epoch 10/10\n",
      "\u001b[1m50/50\u001b[0m \u001b[32m━━━━━━━━━━━━━━━━━━━━\u001b[0m\u001b[37m\u001b[0m \u001b[1m47s\u001b[0m 945ms/step - loss: 0.0713 - val_loss: 0.0681\n"
     ]
    }
   ],
   "source": [
    "data = InitData('.')\n",
    "data = balanceDataSet(data, display=True)\n",
    "\n",
    "image_path, steerings = load_images_and_steering(data, '.')\n",
    "\n",
    "X_train, X_test, y_train, y_test = train_test_split(image_path, steerings, test_size=0.2, random_state=42)\n",
    "\n",
    "net = driving_angle_model()\n",
    "\n",
    "# Fits the neural network with data\n",
    "# Batch size between 2-32 can consistently be stable and reliable (source: Revisiting Small Batch Training for Deep Neural Networks)\n",
    "H = net.fit(create_batches(X_train, y_train, 32, 1), steps_per_epoch=50, epochs=10, validation_data=create_batches(X_test, y_test, 100, 0), validation_steps=12)"
   ]
  },
  {
   "cell_type": "code",
   "execution_count": 47,
   "id": "14d1e8e0",
   "metadata": {},
   "outputs": [
    {
     "data": {
      "image/png": "[encoded data removed]",
      "text/plain": [
       "<Figure size 640x480 with 1 Axes>"
      ]
     },
     "metadata": {},
     "output_type": "display_data"
    }
   ],
   "source": [
    "plt.plot(H.history[\"loss\"], label=\"training\")\n",
    "plt.plot(H.history[\"val_loss\"], label=\"validation\")\n",
    "plt.title(\"Loss\")\n",
    "plt.xlabel(\"Epoch\")\n",
    "plt.ylabel(\"Loss\")\n",
    "plt.legend()\n",
    "plt.show()"
   ]
  },
  {
   "cell_type": "code",
   "execution_count": 48,
   "id": "eaa7b056",
   "metadata": {},
   "outputs": [
    {
     "name": "stderr",
     "output_type": "stream",
     "text": [
      "WARNING:absl:You are saving your model as an HDF5 file via `model.save()` or `keras.saving.save_model(model)`. This file format is considered legacy. We recommend using instead the native Keras format, e.g. `model.save('my_model.keras')` or `keras.saving.save_model(model, 'my_model.keras')`. \n"
     ]
    }
   ],
   "source": [
    "\n",
    "net.save('model.h5')"
   ]
  }
 ],
 "metadata": {
  "kernelspec": {
   "display_name": "venv",
   "language": "python",
   "name": "python3"
  },
  "language_info": {
   "codemirror_mode": {
    "name": "ipython",
    "version": 3
   },
   "file_extension": ".py",
   "mimetype": "text/x-python",
   "name": "python",
   "nbconvert_exporter": "python",
   "pygments_lexer": "ipython3",
   "version": "3.11.5"
  }
 },
 "nbformat": 4,
 "nbformat_minor": 5
}
